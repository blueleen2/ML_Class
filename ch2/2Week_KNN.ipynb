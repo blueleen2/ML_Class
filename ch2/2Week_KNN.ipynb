{
 "metadata": {
  "name": "",
  "signature": "sha256:551c5a7617860ccd369e02f7ba98de435f3ef1b8a1dad364d01e0dac5bfd4f00"
 },
 "nbformat": 3,
 "nbformat_minor": 0,
 "worksheets": [
  {
   "cells": [
    {
     "cell_type": "code",
     "collapsed": false,
     "input": [
      "import kNN\n",
      "from numpy import *\n",
      "import operator\n",
      "from os import listdir\n",
      "\n",
      "\n",
      "def createDataSet():\n",
      "    group = array ( [1.0,1.1], [1.0,1.0], [0,0], [0,0.1])\n",
      "    labels =['A', 'A', 'B', 'B']\n",
      "    return groub, labels\n",
      "\n",
      "group, labels = kNN.createDataSet()\n",
      "\n",
      "print group\n",
      "labels"
     ],
     "language": "python",
     "metadata": {},
     "outputs": [
      {
       "output_type": "stream",
       "stream": "stdout",
       "text": [
        "[[ 1.   1.1]\n",
        " [ 1.   1. ]\n",
        " [ 0.   0. ]\n",
        " [ 0.   0.1]]\n"
       ]
      },
      {
       "metadata": {},
       "output_type": "pyout",
       "prompt_number": 59,
       "text": [
        "['A', 'A', 'B', 'B']"
       ]
      }
     ],
     "prompt_number": 59
    },
    {
     "cell_type": "code",
     "collapsed": false,
     "input": [
      "def classify0(inX, dataSet, labels, k):\n",
      "    dataSetSize = dataSet.shape[0]\n",
      "    print dataSetSize\n",
      "    diffMat = tile(inX, (dataSetSize,1)) - dataSet\n",
      "    print diffMat\n",
      "    sqDiffMat = diffMat**2\n",
      "    sqDistances = sqDiffMat.sum(axis=1) #\ud589\uc73c\ub85c \ub354\ud558\uae30 \n",
      "    distances = sqDistances**0.5\n",
      "    sortedDistIndicies = distances.argsort()     \n",
      "    classCount={}          \n",
      "    for i in range(k):\n",
      "        voteIlabel = labels[sortedDistIndicies[i]]\n",
      "        classCount[voteIlabel] = classCount.get(voteIlabel,0) + 1\n",
      "    sortedClassCount = sorted(classCount.iteritems(), key=operator.itemgetter(1), reverse=True)\n",
      "    return sortedClassCount[0][0]\n",
      "\n",
      "kNN.classify0([0.5,0.5], group, labels, 3)\n",
      "\n",
      "classify0([0,0], group, labels, 3)"
     ],
     "language": "python",
     "metadata": {},
     "outputs": [
      {
       "output_type": "stream",
       "stream": "stdout",
       "text": [
        "4\n",
        "[[-1.  -1.1]\n",
        " [-1.  -1. ]\n",
        " [ 0.   0. ]\n",
        " [ 0.  -0.1]]\n"
       ]
      },
      {
       "metadata": {},
       "output_type": "pyout",
       "prompt_number": 23,
       "text": [
        "'B'"
       ]
      }
     ],
     "prompt_number": 23
    },
    {
     "cell_type": "code",
     "collapsed": false,
     "input": [
      "def file2matrix(filename):\n",
      "    love_dictionary={'largeDoses':3, 'smallDoses':2, 'didntLike':1}\n",
      "    fr = open(filename)\n",
      "    arrayOLines = fr.readlines()\n",
      "    numberOfLines = len(arrayOLines)            #get the number of lines in the file\n",
      "    returnMat = zeros((numberOfLines,3))        #prepare matrix to return\n",
      "    classLabelVector = []                       #prepare labels return   \n",
      "    index = 0\n",
      "    for line in arrayOLines:\n",
      "        line = line.strip()\n",
      "        listFromLine = line.split('\\t')\n",
      "        returnMat[index,:] = listFromLine[0:3]\n",
      "        if(listFromLine[-1].isdigit()):\n",
      "            classLabelVector.append(int(listFromLine[-1]))\n",
      "        else:\n",
      "            classLabelVector.append(love_dictionary.get(listFromLine[-1]))\n",
      "        index += 1\n",
      "    return returnMat,classLabelVector\n",
      "\n",
      "datingDataMat, datingLabels = kNN.file2matrix('datingTestSet.txt')\n",
      "\n",
      "print datingDataMat\n",
      "\n",
      "print datingLabels[0:20]"
     ],
     "language": "python",
     "metadata": {},
     "outputs": [
      {
       "output_type": "stream",
       "stream": "stdout",
       "text": [
        "[[  4.09200000e+04   8.32697600e+00   9.53952000e-01]\n",
        " [  1.44880000e+04   7.15346900e+00   1.67390400e+00]\n",
        " [  2.60520000e+04   1.44187100e+00   8.05124000e-01]\n",
        " ..., \n",
        " [  2.65750000e+04   1.06501020e+01   8.66627000e-01]\n",
        " [  4.81110000e+04   9.13452800e+00   7.28045000e-01]\n",
        " [  4.37570000e+04   7.88260100e+00   1.33244600e+00]]\n",
        "[3, 2, 1, 1, 1, 1, 3, 3, 1, 3, 1, 1, 2, 1, 1, 1, 1, 1, 2, 3]\n"
       ]
      }
     ],
     "prompt_number": 28
    },
    {
     "cell_type": "code",
     "collapsed": false,
     "input": [
      "import matplotlib\n",
      "import matplotlib.pyplot as plt\n",
      "\n",
      "fig = plt.figure()\n",
      "ax= fig.add_subplot(111)\n",
      "ax.scatter(datingDataMat[:,1],datingDataMat[:,2])\n",
      "plt.show()"
     ],
     "language": "python",
     "metadata": {},
     "outputs": [],
     "prompt_number": 41
    },
    {
     "cell_type": "code",
     "collapsed": false,
     "input": [
      " \n",
      "def img2vector(filename):\n",
      "    returnVect = zeros((1,1024))\n",
      "    fr = open(filename)\n",
      "    for i in range(32):\n",
      "        lineStr = fr.readline()\n",
      "        for j in range(32):\n",
      "            returnVect[0,32*i+j] = int(lineStr[j])\n",
      "    return returnVect\n",
      "\n",
      "testVector = kNN.img2vector('digits/testDigits/0_13.txt')\n",
      "testVector[0,0:31]\n",
      "testVector[0,32:63]"
     ],
     "language": "python",
     "metadata": {},
     "outputs": [
      {
       "metadata": {},
       "output_type": "pyout",
       "prompt_number": 54,
       "text": [
        "array([ 0.,  0.,  0.,  0.,  0.,  0.,  0.,  0.,  0.,  0.,  0.,  0.,  1.,\n",
        "        1.,  1.,  1.,  1.,  1.,  1.,  0.,  0.,  0.,  0.,  0.,  0.,  0.,\n",
        "        0.,  0.,  0.,  0.,  0.])"
       ]
      }
     ],
     "prompt_number": 54
    },
    {
     "cell_type": "code",
     "collapsed": false,
     "input": [
      "def handwritingClassTest():\n",
      "    hwLabels = []\n",
      "    trainingFileList = listdir('C:/Users/SMUEE/Desktop/Machine Learning/machinelearninginaction/Ch02/digits/trainingDigits')           #load the training set\n",
      "    m = len(trainingFileList)\n",
      "    print m\n",
      "    trainingMat = zeros((m,1024))\n",
      "    for i in range(m):\n",
      "        fileNameStr = trainingFileList[i]\n",
      "        fileStr = fileNameStr.split('.')[0]     #take off .txt\n",
      "        classNumStr = int(fileStr.split('_')[0])\n",
      "        hwLabels.append(classNumStr)\n",
      "        trainingMat[i,:] = img2vector('C:/Users/SMUEE/Desktop/Machine Learning/machinelearninginaction/Ch02/digits/trainingDigits/%s' % fileNameStr)\n",
      "    testFileList = listdir('C:/Users/SMUEE/Desktop/Machine Learning/machinelearninginaction/Ch02/digits/trainingDigits')        #iterate through the test set\n",
      "    errorCount = 0.0\n",
      "    mTest = len(testFileList)\n",
      "    for i in range(mTest):\n",
      "        fileNameStr = testFileList[i]\n",
      "        fileStr = fileNameStr.split('.')[0]     #take off .txt\n",
      "        classNumStr = int(fileStr.split('_')[0])\n",
      "        vectorUnderTest = img2vector('C:/Users/SMUEE/Desktop/Machine Learning/machinelearninginaction/Ch02/digits/trainingDigits/%s' % fileNameStr)\n",
      "        classifierResult = classify0(vectorUnderTest, trainingMat, hwLabels, 3)\n",
      "        print \"the classifier came back with: %d, the real answer is: %d\" % (classifierResult, classNumStr)\n",
      "        if (classifierResult != classNumStr): errorCount += 1.0\n",
      "    print \"\\nthe total number of errors is: %d\" % errorCount\n",
      "    print \"\\nthe total error rate is: %f\" % (errorCount/float(mTest))\n",
      "    \n",
      "    \n",
      "    trainingFileList = listdir('C:/Users/SMUEE/Desktop/Machine Learning/machinelearninginaction/Ch02/digits/trainingDigits')\n",
      "   \n",
      "   m = len(trainingFileList)"
     ],
     "language": "python",
     "metadata": {},
     "outputs": [
      {
       "ename": "IndentationError",
       "evalue": "unindent does not match any outer indentation level (<ipython-input-72-88077a245d23>, line 30)",
       "output_type": "pyerr",
       "traceback": [
        "\u001b[1;36m  File \u001b[1;32m\"<ipython-input-72-88077a245d23>\"\u001b[1;36m, line \u001b[1;32m30\u001b[0m\n\u001b[1;33m    m = len(trainingFileList)\u001b[0m\n\u001b[1;37m                             ^\u001b[0m\n\u001b[1;31mIndentationError\u001b[0m\u001b[1;31m:\u001b[0m unindent does not match any outer indentation level\n"
       ]
      }
     ],
     "prompt_number": 72
    },
    {
     "cell_type": "code",
     "collapsed": false,
     "input": [],
     "language": "python",
     "metadata": {},
     "outputs": []
    }
   ],
   "metadata": {}
  }
 ]
}