{
 "metadata": {
  "name": "",
  "signature": "sha256:48be0514b262a2cce6d944fb2bc720c40b93c6df6711a14c47d8e36c376a0040"
 },
 "nbformat": 3,
 "nbformat_minor": 0,
 "worksheets": [
  {
   "cells": [
    {
     "cell_type": "markdown",
     "metadata": {},
     "source": [
      "best-fit line (=regression) :data points and then someone fit a line\n",
      "\n",
      "General approach to logistic regression\n",
      "1. Collect: Any method.\n",
      "2. Prepare: Numeric values are needed for a distance calculation. A structured data\n",
      "format is best.\n",
      "3. Analyze: Any method.\n",
      "4. Train: We\u2019ll spend most of the time training, where we try to find optimal coefficients\n",
      "to classify our data.\n",
      "5. Test: Classification is quick and easy once the training step is done.\n",
      "6. Use: This application needs to get some input data and output structured numeric\n",
      "values. Next, the application applies the simple regression calculation on\n",
      "this input data and determines which class the input data should belong to.\n",
      "The application then takes some action on the calculated class.\n",
      "\n",
      "\n",
      "Logistic regression\n",
      "Pros: Computationally inexpensive, easy to implement, knowledge representation\n",
      "easy to interpret\n",
      "Cons: Prone to underfitting, may have low accuracy\n",
      "Works with: Numeric values, nominal values\n",
      "\n",
      "\n",
      "sigmoid\n",
      "Gradient ascent"
     ]
    }
   ],
   "metadata": {}
  }
 ]
}