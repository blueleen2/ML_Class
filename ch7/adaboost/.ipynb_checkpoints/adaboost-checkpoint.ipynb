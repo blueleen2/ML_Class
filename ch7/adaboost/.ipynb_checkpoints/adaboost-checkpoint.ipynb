{
 "metadata": {
  "name": "",
  "signature": "sha256:4419703514ceda42bfa679f2c6898852b0d9600981cb2d5307bc21ae2c059f85"
 },
 "nbformat": 3,
 "nbformat_minor": 0,
 "worksheets": [
  {
   "cells": [
    {
     "cell_type": "markdown",
     "metadata": {},
     "source": [
      "#\uc131\ub2a5 \uce21\uc815 \ubc29\ubc95\n",
      "\n",
      "####\uc544\ub798 \ud45c\ub294 \ud2b9\uc815 \ubd84\ub958\uae30\ub97c \ud1b5\ud574 Binary\ud55c Classifier\ub97c \ud588\uc744 \ub54c, \ub098\ud0c0\ub0a0 \uc218 \uc788\ub294 \uacb0\uacfc\uc774\ub2e4.\n",
      "\n",
      "<img src=\"image\\table1.png\"><b><center>\ud45c 1. \ubd84\ub958 \ud56d\ubaa9\uc774 \ub450 \uac1c\uc778 \ud63c\ub3d9 \ud589\ub82c, \uc11c\ub85c \ub2e4\ub974\uac8c \ud45c\uc2dc\ub41c \ubd84\ub958 \ud56d\ubaa9 \uacb0\uacfc</center></b></img>"
     ]
    },
    {
     "cell_type": "markdown",
     "metadata": {},
     "source": [
      "##\uc624\ub958\uc728\n",
      "####\ubd84\ub958\uae30\uac00 \uc2e4\uc81c\uc640 \uc815 \ubc18\ub300\ub85c \uc608\uce21\ud55c \uacb0\uacfc\n",
      "###\uc2dd : $\uc815\ud655\ub3c4 = \\frac{(FN + FP)}{(TP + FN + FP + TN)}$"
     ]
    },
    {
     "cell_type": "markdown",
     "metadata": {},
     "source": [
      "##\uc815\ud655\ub3c4\n",
      "####\ubd84\ub958\uae30\uac00 Positive\ud558\uac8c \uc608\uce21\ud55c \uadf8\ub8f9 \uc911\uc5d0\uc11c \uc2e4\uc81c\ub85c\ub3c4 Positivie\ud55c \uacb0\uacfc\n",
      "###\uc2dd : $\uc815\ud655\ub3c4 = \\frac{TP}{(TP + FP)}$"
     ]
    },
    {
     "cell_type": "markdown",
     "metadata": {},
     "source": [
      "##\uc7ac\ud604\uc728\n",
      "####\uc2e4\uc81c\ub85c Positive\ud55c \uc608\uc2dc\ub4e4 \uc911\uc5d0\uc11c, \ubd84\ub958\uae30\uac00 Positive\ud558\uac8c \uc608\uce21\ud55c \uacb0\uacfc\n",
      "###\uc2dd : $\uc815\ud655\ub3c4 = \\frac{TP}{(TP + FN)}$"
     ]
    },
    {
     "cell_type": "markdown",
     "metadata": {},
     "source": [
      "##Probability Density Functions (\ud655\ub960 \ubc00\ub3c4 \ud568\uc218)\n",
      "<img src=\"image\\pdfs.png\"><b><center>\uadf8\ub9bc 1. \ud655\ub960 \ubc00\ub3c4 \ud568\uc218</center></b></img>\n",
      "<img src=\"image\\pdfs_2.png\"><b><center>\uadf8\ub9bc 2. \ud655\ub960 \ubc00\ub3c4\uac00 \ud3ec\ud568\ud558\ub294 \uc815\ubcf4</center></b></img>\n",
      "\n",
      "#### \uc704\uc758 \uadf8\ub9bc\uc5d0\uc11c X\ucd95\uc740 \ud2b9\uc815 \ubd84\ub958\uae30\ub97c \uc774\uc6a9\ud558\uc5ec Binary\ud558\uac8c \ud45c\ud604\ud558\uae30 \uc804\uc758 data\uac12\uc73c\ub85c [-1 ~ 1] \uc0ac\uc774\uac12\uc73c\ub85c \uc815\uc758\ub41c\ub2e4.\n",
      "#### \ud655\ub960 \ubc00\ub3c4 \ud568\uc218\uc5d0\uc11c Binary\ud558\uac8c Classify\ud558\ub294 Threshold \uac12\uc5d0 \ub530\ub77c\uc11c TP, FP, FN, TN\uc758 \uac12\uc740 \uac01\uac01 \ubcc0\ud55c\ub2e4.\n",
      "#### \ube44\ub840\uad00\uacc4 : {TP, FP}, {FN, TN}\n",
      "#### \ubc18\ube44\ub840\uad00\uacc4 : {TP, FN}, {TP, TN}, {FP, FN}, {FP, TN}\n",
      "####\uc2e4\uc81c \ud655\ub960 \ubc00\ub3c4 \ud568\uc218 \uadf8\ub798\ud504\uc5d0\uc11c\n",
      "####$f(x)$ : \uc608\uce21\uacb0\uacfc\uac00 Positive\ud55c \ud568\uc218\n",
      "####$g(x)$ : \uc608\uce21\uacb0\uacfc\uac00 Negative\ud55c \ud568\uc218\n",
      "####$TP = \\int_{threshold}^{1} f(x)\\mathrm{d}x$\n",
      "####$TN = \\int_{-1}^{threshold} g(x)\\mathrm{d}x$\n",
      "#### TP + FN = 1, FP + TN = 1 \uc744 \ub9cc\uc871\ud55c\ub2e4."
     ]
    },
    {
     "cell_type": "markdown",
     "metadata": {},
     "source": [
      "##Receiver Operating Characteristic Curve (ROC \uace1\uc120)\n",
      "####2\ucc28 \uc138\uacc4\ub300\uc804, \uc804\ud30c\ud0d0\uc9c0\uae30 \uc2dc\uc2a4\ud15c\uc744 \uad6c\ucd95\ud558\ub294 \uacfc\uc815\uc5d0\uc11c \uc544\uad70\uc2e0\ud638, \uc801\uad70\uc2e0\ud638, \ub178\uc774\uc988\ub97c \uad6c\ubd84\ud558\uae30 \uc704\ud574\uc11c \ucc98\uc74c \uc0ac\uc6a9\ub418\uc5c8\ub2e4.\n",
      "###\uc8fc\ub85c \uc784\uacc4\uac12\uc744 \ubcc0\ud654\ud560 \ub54c \ub098\ud0c0\ub098\ub294 \uad00\uacc4\ub97c \uc0b4\ud3b4\ubcf4\uac70\ub098, \uc11c\ub85c \ub2e4\ub978 \ubd84\ub958\uae30\ub97c \ube44\uad50\ud560 \ub54c \uc8fc\ub85c \uc774\uc6a9\ud55c\ub2e4.\n",
      "####ROC \uace1\uc120\uc740 X, Y\ucd95\uc5d0 \uc624\ub294 Data {TP, FN, FP, TN}\uc5d0 \ub530\ub77c \ub2e4\uc591\ud55c \uadf8\ub798\ud504\ub97c \uac00\uc9c0\uac8c \ub418\ub294\ub370,\n",
      "####\uc774\uc911\uc5d0\uc11c {TP, FN}, {FP, TN}\uc73c\ub85c \ub098\ud0c0\ub0bc\uc218 \uc788\ub294 \ubaa8\ub4e0 \uad00\uacc4\ub97c \uc81c\uc678\ud558\uba74\n",
      "####ROC \uace1\uc120\uc740 \uc544\ub798\uc758 8\uac1c\uc758 \uad00\uacc4\ub85c \ub098\ud0c0\ub0bc \uc218 \uc788\uc73c\uba70,\n",
      "####\ud55c \uac1c\uc758 \ubd84\ub958\uae30\uc5d0 \uc758\ud55c \uacb0\uacfc\ub97c \ub098\ud0c0\ub0bc \uacbd\uc6b0\uc5d0\ub294 \uc8fc\ub85c X, Y\ucd95\uc758 \uad00\uacc4\ub97c \uc0b4\ud3b4\ubcf4\uae30 \uc704\ud568\uc774\ub2e4.\n",
      "\n",
      "<img src=\"image\\ROC1.png\"></img>\n",
      "<img src=\"image\\ROC2.png\"></img>\n",
      "\n",
      "####\uc608\ub97c \ub4e4\uc5b4, {\u2460, \u2462}\uc5d0 \uc758\ud574 TP\uac00 \ucee4\uc9c0\ub294 \uacbd\uc6b0 FP\uc774 \ucee4\uc9c0\uace0, TN \uc791\uc544\uc9c0\ub294 \uac83\uc744 \uc27d\uac8c \ubc1c\uacac\ud560 \uc218 \uc788\ub2e4.\n",
      "\n",
      "####\uc784\uacc4\uac12\uc744 \ubcc0\ud654\ud560 \ub54c, \ub098\ud0c0\ub098\ub294 Error\uad00\uacc4\ub97c \uc0b4\ud3b4 \ubcfc \uacbd\uc6b0\uc5d0\ub294 {FP, FN}\uc758 \uad00\uacc4\ub97c \uc0b4\ud3b4\ubcf4\ub294\ub370\n",
      "####\uc544\ub798 \uadf8\ub9bc\ucc98\ub7fc FP = FN\uc774 \uac19\uc544\uc9c0\ub294 \uc9c0\uc810\uc744 Equal Error Rate(EER)\uc774\ub77c\uace0 \ud55c\ub2e4.\n",
      "\n",
      "<img src=\"image\\EER.png\"></img>\n",
      "\n",
      "####\uc5ec\ub7ec\uac1c\uc758 \ubd84\ub958\uae30\uc758 \uc131\ub2a5\uc744 \ube44\uad50\ud560 \uacbd\uc6b0\uc5d0\ub294 \uc544\ub798\uc640 \uac19\uc774 \ud45c\ud604 \ud560 \uc218 \uc788\ub2e4.\n",
      "<img src=\"image\\compare.png\"></img>\n"
     ]
    },
    {
     "cell_type": "code",
     "collapsed": false,
     "input": [],
     "language": "python",
     "metadata": {},
     "outputs": []
    }
   ],
   "metadata": {}
  }
 ]
}