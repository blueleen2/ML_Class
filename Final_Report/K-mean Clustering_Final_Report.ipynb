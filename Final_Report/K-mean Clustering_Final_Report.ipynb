{
 "metadata": {
  "name": "",
  "signature": "sha256:8466addb920cf2472a6e264ef835d139f056e0f6800f14a2098a8fa4f4e3b63b"
 },
 "nbformat": 3,
 "nbformat_minor": 0,
 "worksheets": [
  {
   "cells": [
    {
     "cell_type": "markdown",
     "metadata": {},
     "source": [
      "In this chapter,\n",
      "we\u2019re going to study one type of clustering algorithm called k-means. It\u2019s called kmeans\n",
      "because it finds k unique clusters, and the center of each cluster is the mean of\n",
      "the values in that cluster.\n",
      "\n",
      "Clustering is\n",
      "sometimes called unsupervised classification because it produces the same result as classification\n",
      "but without having predefined classes\n",
      "\n",
      "Create k points for starting centroids (often randomly)\n",
      " While any point has changed cluster assignment\n",
      " for every point in our dataset:\n",
      "  for every centroid\n",
      "  calculate the distance between the centroid and point\n",
      " assign the point to the cluster with the lowest distance\n",
      "  for every cluster calculate the mean of the points in that cluster\n",
      "  assign the centroid to the mean"
     ]
    },
    {
     "cell_type": "code",
     "collapsed": false,
     "input": [
      "from numpy import *\n",
      "\n",
      "def loadDataSet(fileName):      #general function to parse tab -delimited floats\n",
      "    dataMat = []                #assume last column is target value\n",
      "    fr = open(fileName)\n",
      "    for line in fr.readlines():\n",
      "        curLine = line.strip().split('\\t')\n",
      "        fltLine = map(float,curLine) #map all elements to float()\n",
      "        dataMat.append(fltLine)\n",
      "    return dataMat\n",
      "\n",
      "def distEclud(vecA, vecB):\n",
      "    return sqrt(sum(power(vecA - vecB, 2))) #la.norm(vecA-vecB)\n",
      "\n",
      "def randCent(dataSet, k):\n",
      "    n = shape(dataSet)[1]\n",
      "    #print n\n",
      "    centroids = mat(zeros((k,n)))#create centroid mat\n",
      "    for j in range(n):#create random cluster centers, within bounds of each dimension\n",
      "        minJ = min(dataSet[:,j]) \n",
      "        rangeJ = float(max(dataSet[:,j]) - minJ)\n",
      "       # print minJ\n",
      "        centroids[:,j] = mat(minJ + rangeJ * random.rand(k,1))\n",
      "    return centroids"
     ],
     "language": "python",
     "metadata": {},
     "outputs": [],
     "prompt_number": 91
    },
    {
     "cell_type": "code",
     "collapsed": false,
     "input": [
      "import kMeans\n",
      "from numpy import *"
     ],
     "language": "python",
     "metadata": {},
     "outputs": [],
     "prompt_number": 92
    },
    {
     "cell_type": "code",
     "collapsed": false,
     "input": [
      "datMat = mat(kMeans.loadDataSet('testSet.txt'))"
     ],
     "language": "python",
     "metadata": {},
     "outputs": [],
     "prompt_number": 93
    },
    {
     "cell_type": "code",
     "collapsed": false,
     "input": [
      "min(datMat[:,0])\n",
      "min(datMat[:,1])\n",
      "max(datMat[:,0])\n",
      "max(datMat[:,1])"
     ],
     "language": "python",
     "metadata": {},
     "outputs": [
      {
       "metadata": {},
       "output_type": "pyout",
       "prompt_number": 94,
       "text": [
        "matrix([[ 5.1904]])"
       ]
      }
     ],
     "prompt_number": 94
    },
    {
     "cell_type": "code",
     "collapsed": false,
     "input": [
      "kMeans.randCent(datMat, 2)"
     ],
     "language": "python",
     "metadata": {},
     "outputs": [
      {
       "metadata": {},
       "output_type": "pyout",
       "prompt_number": 95,
       "text": [
        "matrix([[-2.34341494,  3.43916224],\n",
        "        [ 1.63224683, -0.81783213]])"
       ]
      }
     ],
     "prompt_number": 95
    },
    {
     "cell_type": "code",
     "collapsed": false,
     "input": [
      "kMeans.distEclud(datMat[0],datMat[1])"
     ],
     "language": "python",
     "metadata": {},
     "outputs": [
      {
       "metadata": {},
       "output_type": "pyout",
       "prompt_number": 96,
       "text": [
        "5.184632816681332"
       ]
      }
     ],
     "prompt_number": 96
    },
    {
     "cell_type": "code",
     "collapsed": false,
     "input": [
      "def kMeans(dataSet, k, distMeas=distEclud, createCent=randCent):\n",
      "    m = shape(dataSet)[0]\n",
      "    clusterAssment = mat(zeros((m,2)))#create mat to assign data points \n",
      "                                      #to a centroid, also holds SE of each point\n",
      "    centroids = createCent(dataSet, k)\n",
      "    clusterChanged = True\n",
      "    while clusterChanged:\n",
      "        clusterChanged = False\n",
      "        for i in range(m):#for each data point assign it to the closest centroid\n",
      "            minDist = inf; minIndex = -1\n",
      "            for j in range(k):\n",
      "                distJI = distMeas(centroids[j,:],dataSet[i,:])\n",
      "                if distJI < minDist:\n",
      "                    minDist = distJI; minIndex = j\n",
      "            if clusterAssment[i,0] != minIndex: clusterChanged = True\n",
      "            clusterAssment[i,:] = minIndex,minDist**2\n",
      "        #print centroids\n",
      "        for cent in range(k):#recalculate centroids\n",
      "            ptsInClust = dataSet[nonzero(clusterAssment[:,0].A==cent)[0]]#get all the point in this cluster\n",
      "            centroids[cent,:] = mean(ptsInClust, axis=0) #assign centroid to mean \n",
      "    return centroids, clusterAssment"
     ],
     "language": "python",
     "metadata": {},
     "outputs": [],
     "prompt_number": 97
    },
    {
     "cell_type": "code",
     "collapsed": false,
     "input": [
      "myCentroids, clustAssing = kMeans(datMat,4)\n",
      "myCentroids"
     ],
     "language": "python",
     "metadata": {},
     "outputs": [
      {
       "metadata": {},
       "output_type": "pyout",
       "prompt_number": 98,
       "text": [
        "matrix([[-3.53973889, -2.89384326],\n",
        "        [ 2.65077367, -2.79019029],\n",
        "        [-2.46154315,  2.78737555],\n",
        "        [ 2.6265299 ,  3.10868015]])"
       ]
      }
     ],
     "prompt_number": 98
    },
    {
     "cell_type": "code",
     "collapsed": false,
     "input": [
      "import matplotlib\n",
      "import matplotlib.pyplot as plt\n",
      "fig =plt.figure()\n",
      "ax = fig.add_subplot(111)\n",
      "ax.scatter(datMat[:,0], datMat[:,1])\n",
      "ax.scatter(myCentroids[:,0],myCentroids[:,1],s= 50,c='red' )\n",
      "plt.show()"
     ],
     "language": "python",
     "metadata": {},
     "outputs": [],
     "prompt_number": 99
    },
    {
     "cell_type": "markdown",
     "metadata": {},
     "source": [
      "#Bisecting k-means\n",
      "Start with all the points in one cluster\n",
      "While the number of clusters is less than k\n",
      "for every cluster\n",
      "measure total error\n",
      "perform k-means clustering with k=2 on the given cluster\n",
      "measure total error after k-means has split the cluster in two\n",
      "choose the cluster split that gives the lowest error and commit this split\n"
     ]
    },
    {
     "cell_type": "code",
     "collapsed": false,
     "input": [
      "def biKmeans(dataSet, k, distMeas=distEclud):\n",
      "    m = shape(dataSet)[0]  #\uc0d8\ud50c \uc218 \n",
      "    clusterAssment = mat(zeros((m,2)))\n",
      "    centroid0 = mean(dataSet, axis=0).tolist()[0]\n",
      "    centList =[centroid0] #create a list with one centroid\n",
      "    for j in range(m):#calc initial Error\n",
      "        clusterAssment[j,1] = distMeas(mat(centroid0), dataSet[j,:])**2 #\ubaa8\ub4e0 \uc0d8\ud50c\ud558\uace0 \uac70\ub9ac\uac12 \uacc4\uc0b0 \n",
      "        \n",
      "    while (len(centList) < k): # len(centList) = 30x1 : 1\n",
      "        lowestSSE = inf\n",
      "        for i in range(len(centList)):\n",
      "            ptsInCurrCluster = dataSet[nonzero(clusterAssment[:,0].A==i)[0],:]#get the data points currently in cluster i\n",
      "            centroidMat, splitClustAss = kMeans(ptsInCurrCluster, 2, distMeas)\n",
      "            sseSplit = sum(splitClustAss[:,1])#compare the SSE to the currrent minimum\n",
      "            sseNotSplit = sum(clusterAssment[nonzero(clusterAssment[:,0].A!=i)[0],1])\n",
      "            print \"sseSplit, and notSplit: \",sseSplit,sseNotSplit\n",
      "            if (sseSplit + sseNotSplit) < lowestSSE:\n",
      "                bestCentToSplit = i\n",
      "                bestNewCents = centroidMat\n",
      "                bestClustAss = splitClustAss.copy()\n",
      "                lowestSSE = sseSplit + sseNotSplit\n",
      "        bestClustAss[nonzero(bestClustAss[:,0].A == 1)[0],0] = len(centList) #change 1 to 3,4, or whatever\n",
      "        bestClustAss[nonzero(bestClustAss[:,0].A == 0)[0],0] = bestCentToSplit\n",
      "        print 'the bestCentToSplit is: ',bestCentToSplit\n",
      "        print 'the len of bestClustAss is: ', len(bestClustAss)\n",
      "        centList[bestCentToSplit] = bestNewCents[0,:].tolist()[0]#replace a centroid with two best centroids \n",
      "        centList.append(bestNewCents[1,:].tolist()[0])\n",
      "        clusterAssment[nonzero(clusterAssment[:,0].A == bestCentToSplit)[0],:]= bestClustAss#reassign new clusters, and SSE\n",
      "    return mat(centList), clusterAssment"
     ],
     "language": "python",
     "metadata": {},
     "outputs": [],
     "prompt_number": 147
    },
    {
     "cell_type": "code",
     "collapsed": false,
     "input": [
      "dataMat3 = mat(loadDataSet('testSet2.txt'))"
     ],
     "language": "python",
     "metadata": {},
     "outputs": [],
     "prompt_number": 148
    },
    {
     "cell_type": "code",
     "collapsed": false,
     "input": [
      "cenList, myNewAssments = biKmeans(dataMat3, 3)"
     ],
     "language": "python",
     "metadata": {},
     "outputs": [
      {
       "output_type": "stream",
       "stream": "stdout",
       "text": [
        "sseSplit, and notSplit:  541.297629265 0.0\n",
        "the bestCentToSplit is:  0\n",
        "the len of bestClustAss is:  60\n",
        "sseSplit, and notSplit:  26.9283722645 501.768330583\n",
        "sseSplit, and notSplit: "
       ]
      },
      {
       "output_type": "stream",
       "stream": "stdout",
       "text": [
        " 67.2202000798 39.5292986821\n",
        "the bestCentToSplit is:  1\n",
        "the len of bestClustAss is:  40\n"
       ]
      }
     ],
     "prompt_number": 149
    },
    {
     "cell_type": "code",
     "collapsed": false,
     "input": [],
     "language": "python",
     "metadata": {},
     "outputs": []
    }
   ],
   "metadata": {}
  }
 ]
}