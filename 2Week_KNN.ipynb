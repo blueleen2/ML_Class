{
 "metadata": {
  "name": "",
  "signature": "sha256:f0619af20d98608ca120e410943e04a3e5a5cf1ec5968e512d29735351feb888"
 },
 "nbformat": 3,
 "nbformat_minor": 0,
 "worksheets": [
  {
   "cells": [
    {
     "cell_type": "code",
     "collapsed": false,
     "input": [
      "import kNN\n",
      "from numpy import *\n",
      "import operator\n",
      "from os import listdir\n",
      "\n",
      "\n",
      "def createDataSet():\n",
      "    group = array ( [1.0,1.1], [1.0,1.0], [0,0], [0,0.1])\n",
      "    labels =['A', 'A', 'B', 'B']\n",
      "    return groub, labels\n",
      "\n",
      "group, labels = kNN.createDataSet()\n",
      "\n",
      "print group\n",
      "labels"
     ],
     "language": "python",
     "metadata": {},
     "outputs": [
      {
       "output_type": "stream",
       "stream": "stdout",
       "text": [
        "[[ 1.   1.1]\n",
        " [ 1.   1. ]\n",
        " [ 0.   0. ]\n",
        " [ 0.   0.1]]\n"
       ]
      },
      {
       "metadata": {},
       "output_type": "pyout",
       "prompt_number": 21,
       "text": [
        "['A', 'A', 'B', 'B']"
       ]
      }
     ],
     "prompt_number": 21
    },
    {
     "cell_type": "code",
     "collapsed": false,
     "input": [
      "def classify0(inX, dataSet, labels, k):\n",
      "    dataSetSize = dataSet.shape[0]\n",
      "    print dataSetSize\n",
      "    diffMat = tile(inX, (dataSetSize,1)) - dataSet\n",
      "    print diffMat\n",
      "    sqDiffMat = diffMat**2\n",
      "    sqDistances = sqDiffMat.sum(axis=1) #\ud589\uc73c\ub85c \ub354\ud558\uae30 \n",
      "    distances = sqDistances**0.5\n",
      "    sortedDistIndicies = distances.argsort()     \n",
      "    classCount={}          \n",
      "    for i in range(k):\n",
      "        voteIlabel = labels[sortedDistIndicies[i]]\n",
      "        classCount[voteIlabel] = classCount.get(voteIlabel,0) + 1\n",
      "    sortedClassCount = sorted(classCount.iteritems(), key=operator.itemgetter(1), reverse=True)\n",
      "    return sortedClassCount[0][0]\n",
      "\n",
      "kNN.classify0([0.5,0.5], group, labels, 3)\n",
      "\n",
      "classify0([0,0], group, labels, 3)"
     ],
     "language": "python",
     "metadata": {},
     "outputs": [
      {
       "output_type": "stream",
       "stream": "stdout",
       "text": [
        "4\n",
        "[[-1.  -1.1]\n",
        " [-1.  -1. ]\n",
        " [ 0.   0. ]\n",
        " [ 0.  -0.1]]\n"
       ]
      },
      {
       "metadata": {},
       "output_type": "pyout",
       "prompt_number": 23,
       "text": [
        "'B'"
       ]
      }
     ],
     "prompt_number": 23
    },
    {
     "cell_type": "code",
     "collapsed": false,
     "input": [],
     "language": "python",
     "metadata": {},
     "outputs": []
    }
   ],
   "metadata": {}
  }
 ]
}